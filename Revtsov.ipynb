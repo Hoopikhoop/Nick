{
  "nbformat": 4,
  "nbformat_minor": 0,
  "metadata": {
    "colab": {
      "name": "Revtsov.ipynb",
      "provenance": [],
      "authorship_tag": "ABX9TyMOJd4h3vTmCDDRHqiO53ls",
      "include_colab_link": true
    },
    "kernelspec": {
      "name": "python3",
      "display_name": "Python 3"
    }
  },
  "cells": [
    {
      "cell_type": "markdown",
      "metadata": {
        "id": "view-in-github",
        "colab_type": "text"
      },
      "source": [
        "<a href=\"https://colab.research.google.com/github/Hoopikhoop/Nick/blob/main/Revtsov.ipynb\" target=\"_parent\"><img src=\"https://colab.research.google.com/assets/colab-badge.svg\" alt=\"Open In Colab\"/></a>"
      ]
    },
    {
      "cell_type": "markdown",
      "metadata": {
        "id": "k5yASXknHDgl"
      },
      "source": [
        "### Раздел 1 (Форма)"
      ]
    },
    {
      "cell_type": "code",
      "metadata": {
        "id": "OxLHBXQBG2dT"
      },
      "source": [
        "#@markdown <hr>\r\n",
        "#@markdown\r\n",
        "name = \"Vasya Shits\" #@param {type:\"string\"}\r\n",
        "group = \"КИ19-20Б\" #@param [\"КИ19-20Б\", \"КИ19-21Б\", \"КИ19-22Б\", \"КИ19-23Б\", \"КИ19-24Б\"]\r\n",
        "date = \"2021-02-20\" #@param {type:\"date\"}\r\n",
        "#@markdown ---\r\n",
        "#@markdown Выберите галочку, чтобы вывести дополнительную информацию\r\n",
        "checked = True #@param {type:\"boolean\"}\r\n",
        "age = 20 #@param {type:\"integer\"}\r\n",
        "year_study = 1 #@param {type:\"slider\", min:\"1\", max:\"6\"}\r\n",
        "average_grade = 5 #@param {type:\"slider\", min:\"1\", max:\"5\"}\r\n",
        "if name ==\"\":\r\n",
        " print(\"Введите имя\")\r\n",
        "else:\r\n",
        " print(\"ФИО:\", name)\r\n",
        " print(\"Группа:\", group)\r\n",
        " print(\"Дата:\", date)\r\n",
        " if checked:\r\n",
        " print(\"Возраст:\", age)\r\n",
        " print(\"Курс:\", year_study)\r\n",
        " print(\"Средняя оценка:\", average_grade)"
      ],
      "execution_count": null,
      "outputs": []
    },
    {
      "cell_type": "markdown",
      "metadata": {
        "id": "tHBer4yyIOgF"
      },
      "source": [
        "### Раздел 2 (Таблица)"
      ]
    },
    {
      "cell_type": "code",
      "metadata": {
        "colab": {
          "base_uri": "https://localhost:8080/"
        },
        "id": "YKIwSgEBIb0P",
        "outputId": "bf84ce66-9667-4fbf-b481-760be2d40fd6"
      },
      "source": [
        "import pandas as pd\r\n",
        "data1 = pd.read_csv(\"/content/sample_data/california_housing_test.csv\")\r\n",
        "print(data1)\r\n",
        "data2 = pd.read_csv(\"/content/sample_data/mnist_test.csv\")\r\n",
        "print(data2)"
      ],
      "execution_count": 1,
      "outputs": [
        {
          "output_type": "stream",
          "text": [
            "      longitude  latitude  ...  median_income  median_house_value\n",
            "0       -122.05     37.37  ...         6.6085            344700.0\n",
            "1       -118.30     34.26  ...         3.5990            176500.0\n",
            "2       -117.81     33.78  ...         5.7934            270500.0\n",
            "3       -118.36     33.82  ...         6.1359            330000.0\n",
            "4       -119.67     36.33  ...         2.9375             81700.0\n",
            "...         ...       ...  ...            ...                 ...\n",
            "2995    -119.86     34.42  ...         1.1790            225000.0\n",
            "2996    -118.14     34.06  ...         3.3906            237200.0\n",
            "2997    -119.70     36.30  ...         2.2895             62000.0\n",
            "2998    -117.12     34.10  ...         3.2708            162500.0\n",
            "2999    -119.63     34.42  ...         8.5608            500001.0\n",
            "\n",
            "[3000 rows x 9 columns]\n",
            "      7  0  0.1  0.2  0.3  0.4  ...  0.662  0.663  0.664  0.665  0.666  0.667\n",
            "0     2  0    0    0    0    0  ...      0      0      0      0      0      0\n",
            "1     1  0    0    0    0    0  ...      0      0      0      0      0      0\n",
            "2     0  0    0    0    0    0  ...      0      0      0      0      0      0\n",
            "3     4  0    0    0    0    0  ...      0      0      0      0      0      0\n",
            "4     1  0    0    0    0    0  ...      0      0      0      0      0      0\n",
            "...  .. ..  ...  ...  ...  ...  ...    ...    ...    ...    ...    ...    ...\n",
            "9994  2  0    0    0    0    0  ...      0      0      0      0      0      0\n",
            "9995  3  0    0    0    0    0  ...      0      0      0      0      0      0\n",
            "9996  4  0    0    0    0    0  ...      0      0      0      0      0      0\n",
            "9997  5  0    0    0    0    0  ...      0      0      0      0      0      0\n",
            "9998  6  0    0    0    0    0  ...      0      0      0      0      0      0\n",
            "\n",
            "[9999 rows x 785 columns]\n"
          ],
          "name": "stdout"
        }
      ]
    },
    {
      "cell_type": "markdown",
      "metadata": {
        "id": "wQarSrb8I73g"
      },
      "source": [
        "### Ревцов Н.С. КИ19-20Б"
      ]
    },
    {
      "cell_type": "code",
      "metadata": {
        "colab": {
          "base_uri": "https://localhost:8080/"
        },
        "id": "mL6MbUdRJCNT",
        "outputId": "3f6dd026-f4be-45e2-9da2-6690e861fbd3"
      },
      "source": [
        "#@title CheckCSV\r\n",
        "#@markdown —-\r\n",
        "File = \"mnist_Test\"#@param [\"mnist_Test\",\"california\"]\r\n",
        "WithGoogleTable = True #@param {type:\"boolean\"}\r\n",
        "if File == \"mnist_Test\" and WithGoogleTable == True:\r\n",
        " %load_ext google.colab.data_table\r\n",
        " data1 = pd.read_csv(\"/content/sample_data/mnist_test.csv\",header=None)\r\n",
        "elif File == \"mnist_Test\" and WithGoogleTable == False:\r\n",
        " data1 = pd.read_csv(\"/content/sample_data/mnist_test.csv\",header=None)\r\n",
        "elif File == \"california\" and WithGoogleTable == True:\r\n",
        " %load_ext google.colab.data_table\r\n",
        " data1 = pd.read_csv(\"/content/sample_data/california_housing_test.csv\")\r\n",
        "else:\r\n",
        " data1 = pd.read_csv(\"/content/sample_data/california_housing_test.csv\")"
      ],
      "execution_count": 11,
      "outputs": [
        {
          "output_type": "stream",
          "text": [
            "The google.colab.data_table extension is already loaded. To reload it, use:\n",
            "  %reload_ext google.colab.data_table\n"
          ],
          "name": "stdout"
        }
      ]
    },
    {
      "cell_type": "code",
      "metadata": {
        "colab": {
          "base_uri": "https://localhost:8080/"
        },
        "id": "IakaKSqdJ2p3",
        "outputId": "338431d7-6238-436b-bea9-05e8eba027ee"
      },
      "source": [
        "print(data1)"
      ],
      "execution_count": 12,
      "outputs": [
        {
          "output_type": "stream",
          "text": [
            "      0    1    2    3    4    5    6    ...  778  779  780  781  782  783  784\n",
            "0       7    0    0    0    0    0    0  ...    0    0    0    0    0    0    0\n",
            "1       2    0    0    0    0    0    0  ...    0    0    0    0    0    0    0\n",
            "2       1    0    0    0    0    0    0  ...    0    0    0    0    0    0    0\n",
            "3       0    0    0    0    0    0    0  ...    0    0    0    0    0    0    0\n",
            "4       4    0    0    0    0    0    0  ...    0    0    0    0    0    0    0\n",
            "...   ...  ...  ...  ...  ...  ...  ...  ...  ...  ...  ...  ...  ...  ...  ...\n",
            "9995    2    0    0    0    0    0    0  ...    0    0    0    0    0    0    0\n",
            "9996    3    0    0    0    0    0    0  ...    0    0    0    0    0    0    0\n",
            "9997    4    0    0    0    0    0    0  ...    0    0    0    0    0    0    0\n",
            "9998    5    0    0    0    0    0    0  ...    0    0    0    0    0    0    0\n",
            "9999    6    0    0    0    0    0    0  ...    0    0    0    0    0    0    0\n",
            "\n",
            "[10000 rows x 785 columns]\n"
          ],
          "name": "stdout"
        }
      ]
    }
  ]
}